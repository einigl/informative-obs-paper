{
 "cells": [
  {
   "cell_type": "code",
   "execution_count": 90,
   "metadata": {},
   "outputs": [],
   "source": [
    "import os\n",
    "import sys\n",
    "import itertools as itt\n",
    "from typing import List, Dict, Tuple\n",
    "\n",
    "import numpy as np\n",
    "import matplotlib.pyplot as plt\n",
    "from tqdm import tqdm\n",
    "from scipy import stats\n",
    "from matplotlib import colormaps\n",
    "\n",
    "import infovar\n",
    "\n",
    "sys.path.insert(0, os.path.join(\"..\", \"..\"))\n",
    "from infobs.plots import Plotter\n",
    "\n",
    "sys.path.insert(1, os.path.join(\"..\"))\n",
    "from pdr_util import get_physical_env, simulate, latex_line, latex_param, Settings\n",
    "\n",
    "results_path = os.path.join(\"..\", \"data\", \"continuous\", \"results\")\n",
    "\n",
    "plt.rc(\"text\", usetex=True)\n",
    "Settings.only_rotational = True"
   ]
  },
  {
   "cell_type": "code",
   "execution_count": 91,
   "metadata": {},
   "outputs": [],
   "source": [
    "handler = infovar.ContinuousHandler()\n",
    "\n",
    "handler.set_paths(\n",
    "    save_path=results_path,\n",
    ")"
   ]
  },
  {
   "cell_type": "code",
   "execution_count": 92,
   "metadata": {},
   "outputs": [],
   "source": [
    "plotter = Plotter(\n",
    "    line_formatter=latex_line,\n",
    "    param_formatter=latex_param\n",
    ")\n",
    "\n",
    "latex_comb_lines = lambda ls: plotter.lines_comb_formatter(ls, short=True)\n",
    "latex_comb_params = lambda ps: plotter.params_comb_formatter(ps)"
   ]
  },
  {
   "cell_type": "markdown",
   "metadata": {},
   "source": [
    "## Summary maps"
   ]
  },
  {
   "cell_type": "code",
   "execution_count": 93,
   "metadata": {},
   "outputs": [],
   "source": [
    "param = \"radm\"\n",
    "wins_features = [\"P\", \"radm\"]\n",
    "stat = \"mi\""
   ]
  },
  {
   "cell_type": "code",
   "execution_count": 94,
   "metadata": {},
   "outputs": [],
   "source": [
    "lines_list = [\n",
    "    [\"co_v0_j1__v0_j0\"],\n",
    "    [\"co_v0_j2__v0_j1\"],\n",
    "    [\"co_v0_j3__v0_j2\"],\n",
    "    [\"13c_o_j1__j0\"],\n",
    "    [\"13c_o_j2__j1\"],\n",
    "    [\"13c_o_j3__j2\"],\n",
    "    [\"c_18o_j1__j0\"],\n",
    "    [\"c_18o_j2__j1\"],\n",
    "    [\"c_18o_j3__j2\"],\n",
    "    [\"hcop_j1__j0\"],\n",
    "    [\"hcop_j2__j1\"],\n",
    "    [\"hcop_j3__j2\"],\n",
    "    [\"hcop_j4__j3\"],\n",
    "    [\"hnc_j1__j0\"],\n",
    "    [\"hnc_j3__j2\"],\n",
    "    [\"hcn_j1_f2__j0_f1\"],\n",
    "    [\"hcn_j2_f3__j1_f2\"],\n",
    "    [\"hcn_j3_f3__j2_f3\"],\n",
    "    [\"cs_j2__j1\"],\n",
    "    [\"cs_j3__j2\"],\n",
    "    [\"cs_j5__j4\"],\n",
    "    [\"cs_j6__j5\"],\n",
    "    [\"cs_j7__j6\"],\n",
    "    # CN lines\n",
    "    [\"cn_n1_j0d5__n0_j0d5\"],\n",
    "    [\"cn_n1_j1d5__n0_j0d5\"],\n",
    "    [\"cn_n2_j1d5__n1_j0d5\"],\n",
    "    [\"cn_n2_j2d5__n1_j1d5\"],\n",
    "    [\"cn_n3_j3d5__n2_j2d5\"],\n",
    "    # C2H lines\n",
    "    [\"c2h_n1d0_j1d5_f2d0__n0d0_j0d5_f1d0\"],\n",
    "    [\"c2h_n2d0_j2d5_f3d0__n1d0_j1d5_f2d0\"],\n",
    "    [\"c2h_n3d0_j3d5_f4d0__n2d0_j2d5_f3d0\"],\n",
    "    [\"c2h_n3d0_j2d5_f3d0__n2d0_j1d5_f2d0\"],   \n",
    "    [\"c2h_n4d0_j4d5_f5d0__n3d0_j3d5_f4d0\"],\n",
    "    # Carbon lines\n",
    "    [\"c_el3p_j1__el3p_j0\"],\n",
    "    [\"c_el3p_j2__el3p_j1\"],\n",
    "    [\"cp_el2p_j3_2__el2p_j1_2\"]\n",
    "]"
   ]
  },
  {
   "cell_type": "code",
   "execution_count": 95,
   "metadata": {},
   "outputs": [],
   "source": [
    "mat_mis = []\n",
    "\n",
    "for lines in lines_list:\n",
    "\n",
    "    d = handler.read(\n",
    "        lines, param, wins_features\n",
    "    )\n",
    "\n",
    "    data = d[\"stats\"][stat][\"data\"]\n",
    "    samples = d[\"stats\"][stat][\"samples\"]\n",
    "    yticks, xticks = d[\"stats\"][stat][\"coords\"]\n",
    "\n",
    "    X, Y = np.meshgrid(xticks, yticks)\n",
    "\n",
    "    mat_mis.append(data[..., np.newaxis])\n",
    "    # if np.any(np.isnan(data)):\n",
    "    #     print(np.sum(np.isnan(data)))\n",
    "\n",
    "mat_mis = np.concatenate(mat_mis, axis=-1)"
   ]
  },
  {
   "cell_type": "code",
   "execution_count": 96,
   "metadata": {},
   "outputs": [],
   "source": [
    "res_mi = np.nanargmax(mat_mis, axis=-1)"
   ]
  },
  {
   "cell_type": "code",
   "execution_count": 97,
   "metadata": {},
   "outputs": [
    {
     "name": "stderr",
     "output_type": "stream",
     "text": [
      "100%|██████████| 10000/10000 [00:02<00:00, 3616.93it/s]\n"
     ]
    }
   ],
   "source": [
    "r = 3\n",
    "s1, s2 = res_mi.shape\n",
    "\n",
    "_X, _Y = np.meshgrid(np.arange(s1), np.arange(s2))\n",
    "\n",
    "res_mi_smooth = res_mi.copy()\n",
    "for i, j in tqdm(itt.product(range(s1), range(s2)), total=s1*s2):\n",
    "    # win = res_mi[max(0, i-delta):min(s1, i+delta+1), max(0, j-delta):min(s2, j+delta+1)]\n",
    "    win = res_mi[(_X-j)**2 + (_Y-i)**2 <= r**2]\n",
    "    res_mi_smooth[i, j] = stats.mode(win.flatten())[0]"
   ]
  },
  {
   "cell_type": "code",
   "execution_count": 98,
   "metadata": {},
   "outputs": [],
   "source": [
    "indices = np.unique(res_mi_smooth).astype(int)\n",
    "\n",
    "res_mi_short = np.nan * np.zeros_like(res_mi_smooth)\n",
    "for i, val in enumerate(indices):\n",
    "    res_mi_short[res_mi_smooth == val] = i\n",
    "\n",
    "lines_list_short = [lines_list[i] for i in indices]"
   ]
  },
  {
   "cell_type": "code",
   "execution_count": 99,
   "metadata": {},
   "outputs": [],
   "source": [
    "ticksfontsize = 12\n",
    "labelfontsize = 14\n",
    "titlefontsize = 18"
   ]
  },
  {
   "cell_type": "code",
   "execution_count": 100,
   "metadata": {},
   "outputs": [
    {
     "name": "stderr",
     "output_type": "stream",
     "text": [
      "/tmp/ipykernel_1577871/4245813417.py:5: MatplotlibDeprecationWarning: The get_cmap function was deprecated in Matplotlib 3.7 and will be removed two minor releases later. Use ``matplotlib.colormaps[name]`` or ``matplotlib.colormaps.get_cmap(obj)`` instead.\n",
      "  cmap = cm.get_cmap('RdBu_r', n)\n"
     ]
    },
    {
     "data": {
      "image/png": "[encoded data removed]",
      "text/plain": [
       "<Figure size 960x720 with 2 Axes>"
      ]
     },
     "metadata": {},
     "output_type": "display_data"
    }
   ],
   "source": [
    "n = len(lines_list_short)\n",
    "# cmap = colormaps.get('RdBu_r', n)\n",
    "\n",
    "from matplotlib import cm\n",
    "cmap = cm.get_cmap('RdBu_r', n)\n",
    "\n",
    "plt.figure(figsize=(6.4, 4.8), dpi=150)\n",
    "\n",
    "ax = plt.gca()\n",
    "\n",
    "plt.pcolor(X, Y, res_mi_short, cmap=cmap, vmin=-0.5, vmax=n-0.5)\n",
    "\n",
    "plt.xscale('log')\n",
    "plt.yscale('log')\n",
    "\n",
    "plt.xlabel(f\"${latex_param(wins_features[1])}$\", fontsize=labelfontsize)\n",
    "plt.ylabel(f\"${latex_param(wins_features[0])}$\", fontsize=labelfontsize)\n",
    "\n",
    "plt.xticks(fontsize=ticksfontsize)\n",
    "plt.yticks(fontsize=ticksfontsize)\n",
    "\n",
    "plt.gca().set_box_aspect(1)\n",
    "\n",
    "cbar = plt.colorbar()\n",
    "cbar.set_ticks(np.arange(n), labels=[f\"${plotter.lines_comb_formatter(c)}$\" for c in lines_list_short], fontsize=ticksfontsize)\n",
    "\n",
    "plt.savefig(f\"{param}_summary_map.png\")\n",
    "plt.show()"
   ]
  },
  {
   "cell_type": "code",
   "execution_count": null,
   "metadata": {},
   "outputs": [],
   "source": []
  }
 ],
 "metadata": {
  "kernelspec": {
   "display_name": ".venv",
   "language": "python",
   "name": "python3"
  },
  "language_info": {
   "codemirror_mode": {
    "name": "ipython",
    "version": 3
   },
   "file_extension": ".py",
   "mimetype": "text/x-python",
   "name": "python",
   "nbconvert_exporter": "python",
   "pygments_lexer": "ipython3",
   "version": "3.11.8"
  }
 },
 "nbformat": 4,
 "nbformat_minor": 2
}
