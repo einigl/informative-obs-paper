{
 "cells": [
  {
   "cell_type": "markdown",
   "id": "6b0a6072",
   "metadata": {},
   "source": [
    "# Most informative combination of two lines"
   ]
  },
  {
   "cell_type": "code",
   "execution_count": 1,
   "id": "necessary-mitchell",
   "metadata": {},
   "outputs": [],
   "source": [
    "import os\n",
    "import yaml\n",
    "import json\n",
    "import shutil\n",
    "import itertools as itt\n",
    "from typing import List, Optional, Union, Tuple, Dict\n",
    "\n",
    "import numpy as np\n",
    "import matplotlib.pyplot as plt\n",
    "from matplotlib.figure import Figure\n",
    "from tqdm import tqdm\n",
    "\n",
    "from helpers import latex_regime, prob_higher, plot_summary_1d, plot_summary_2d\n",
    "from store_data_discrete import select_data\n",
    "from astro30m import latex_line, latex_quantity\n",
    "\n",
    "plt.rc(\"text\", usetex=True)\n",
    "\n",
    "figures_dir = os.path.join(\"figures\", \"2_lines_discrete\")"
   ]
  },
  {
   "cell_type": "markdown",
   "id": "80944643",
   "metadata": {},
   "source": [
    "## Load data files"
   ]
  },
  {
   "cell_type": "code",
   "execution_count": 2,
   "id": "3d7eb805",
   "metadata": {},
   "outputs": [],
   "source": [
    "# Load stored data\n",
    "\n",
    "filename = os.path.join(\"data\", \"discrete\", f'nlines-2.json')\n",
    "\n",
    "if os.path.isfile(filename):\n",
    "    with open(filename, 'r') as f:\n",
    "        data = json.load(f)\n",
    "else:\n",
    "    raise FileNotFoundError(f'{filename} has not been yet created')\n",
    "\n",
    "# Load reference data\n",
    "\n",
    "filename = os.path.join(\"data\", \"discrete\", f'nlines-1.json')\n",
    "\n",
    "if os.path.isfile(filename):\n",
    "    with open(filename, 'r') as f:\n",
    "        ref_1 = json.load(f)\n",
    "else:\n",
    "    raise FileNotFoundError(f'{filename} has not been yet created')\n",
    "\n",
    "\n",
    "# Load lines informations\n",
    "\n",
    "with open(os.path.join('data', 'lines.json'), 'r') as f:\n",
    "    l_lines = json.load(f)\n",
    "\n",
    "# Load parameters informations\n",
    "\n",
    "with open(os.path.join('data', 'parameters.json'), 'r') as f:\n",
    "    l_params = json.load(f)\n",
    "l_params += list(itt.combinations(l_params, 2))\n",
    "\n",
    "# Load regimes informations\n",
    "\n",
    "with open(os.path.join('data', 'regimes.json'), 'r') as f:\n",
    "    d_regimes = json.load(f)\n",
    "\n",
    "regimes = {\n",
    "    'dust-av': ['1', '2', '3', '4'], # Ignore lowest regime\n",
    "    'dust-g0': ['1', '2', '3', '4'], # Ignore lowest regime\n",
    "}\n",
    "for param in ['dust-av', 'dust-g0']:\n",
    "    del d_regimes[param]['all'] # Ignore regime 'all'\n",
    "    del d_regimes[param]['0']   # Ignore lowest regime"
   ]
  },
  {
   "cell_type": "markdown",
   "id": "b661e569",
   "metadata": {},
   "source": [
    "## Plot figures (one or two parameters)\n",
    "\n",
    "- Without regime restriction\n",
    "- With restriction on a single parameter\n",
    "- With restriction on two parameters"
   ]
  },
  {
   "cell_type": "code",
   "execution_count": 3,
   "id": "b40b8ae0",
   "metadata": {},
   "outputs": [],
   "source": [
    "def param_latex(param: Union[str, Tuple[str, str]]):\n",
    "    if isinstance(param, str):\n",
    "        return latex_quantity(param)\n",
    "    return f\"({latex_quantity(param[0])}, {latex_quantity(param[1])})\"\n",
    "\n",
    "def param_str(param: Union[str, Tuple[str, str]]):\n",
    "    if isinstance(param, str):\n",
    "        return param.replace('dust-', '').capitalize()\n",
    "    return param[0].replace('dust-', '').capitalize() + '_' + param[1].replace('dust-', '').capitalize()\n",
    "\n",
    "def regime_latex(param: Union[str, Tuple[str, str]], d_regimes: Dict[str, List[Tuple]], reg: Dict[str, str]):\n",
    "    if isinstance(param, str):\n",
    "        return latex_regime(param, d_regimes[param][reg[param]])\n",
    "    return latex_regime(param[0], d_regimes[param[0]][reg[param[0]]]) + \", \"\\\n",
    "        + latex_regime(param[1], d_regimes[param[1]][reg[param[1]]])\n",
    "\n",
    "def regime_str(param: Union[str, Tuple[str, str]], reg: Dict[str, str]):\n",
    "    if isinstance(param, str):\n",
    "        return param_str(param) + \"_\" + reg[param]\n",
    "    return param_str(param[0]) + \"_\" + reg[param[0]] + \"_\"\\\n",
    "        + param_str(param[1]) + \"_\" + reg[param[1]]"
   ]
  },
  {
   "cell_type": "code",
   "execution_count": 4,
   "id": "75d2ffb8",
   "metadata": {},
   "outputs": [],
   "source": [
    "# Creates figures directory if not exists\n",
    "if not os.path.isdir(\"figures\"):\n",
    "    os.mkdir(\"figures\")\n",
    "if not os.path.isdir(figures_dir):\n",
    "    os.mkdir(figures_dir)\n",
    "\n",
    "# Remove folder of parameters if exist and recreate them\n",
    "for param in l_params:\n",
    "    path = os.path.join(figures_dir, param_str(param))\n",
    "    if os.path.isdir(path):\n",
    "        shutil.rmtree(path)\n",
    "    os.mkdir(path)"
   ]
  },
  {
   "cell_type": "markdown",
   "id": "4a555dba",
   "metadata": {},
   "source": [
    "### Helpers"
   ]
  },
  {
   "cell_type": "code",
   "execution_count": 5,
   "id": "11c7f638",
   "metadata": {},
   "outputs": [],
   "source": [
    "dpi = 200\n",
    "cmap = 'OrRd' #'veridis'\n",
    "xscale = 1.0\n",
    "yscale = 1.0\n",
    "\n",
    "def plot_condh(\n",
    "    lines: List[str],\n",
    "    hs: List[List[float]],\n",
    "    show_diag: bool=True,\n",
    ") -> Figure:\n",
    "    fig, ax = plt.subplots(1, 1, figsize = (xscale*6.4, yscale*4.8), dpi=dpi)\n",
    "\n",
    "    hs = np.array(hs)\n",
    "    mask = np.where(\n",
    "        np.tril(np.ones_like(hs), k=-1 if show_diag else 0),\n",
    "        float('nan'), 1.\n",
    "    )\n",
    "    im = ax.imshow(mask * hs, origin='lower', cmap=cmap+'_r')\n",
    "\n",
    "    cbar = fig.colorbar(im)\n",
    "    cbar.set_label('Conditional entropy (bits)', labelpad=30, rotation=270)\n",
    "\n",
    "    ax.set_xticks(np.arange(hs.shape[0]))\n",
    "    ax.set_xticklabels([latex_line(l, short=True, equation_mode=True) for l in lines], rotation=45, fontsize=12)\n",
    "    ax.set_yticks(np.arange(hs.shape[0]))\n",
    "    ax.set_yticklabels([latex_line(l, short=True, equation_mode=True) for l in lines], rotation=45, fontsize=12);\n",
    "\n",
    "    return fig\n",
    "\n",
    "def plot_mi(\n",
    "    lines: List[str],\n",
    "    mis: List[List[float]],\n",
    "    show_diag: bool=True,\n",
    ") -> Figure:\n",
    "    fig, ax = plt.subplots(1, 1, figsize = (xscale*6.4, yscale*4.8), dpi=dpi)\n",
    "\n",
    "    mis = np.array(mis)\n",
    "    mask = np.where(\n",
    "        np.tril(np.ones_like(mis), k=-1 if show_diag else 0),\n",
    "        float('nan'), 1.\n",
    "    )\n",
    "    im = ax.imshow(mask * mis, origin='lower', cmap=cmap)\n",
    "\n",
    "    cbar = fig.colorbar(im)\n",
    "    cbar.set_label('Mutual information (bits)', labelpad=30, rotation=270)\n",
    "\n",
    "    ax.set_xticks(np.arange(mis.shape[0]))\n",
    "    ax.set_xticklabels([latex_line(l, short=True, equation_mode=True) for l in lines], rotation=45, fontsize=12)\n",
    "    ax.set_yticks(np.arange(mis.shape[0]))\n",
    "    ax.set_yticklabels([latex_line(l, short=True, equation_mode=True) for l in lines], rotation=45, fontsize=12);\n",
    "\n",
    "    return fig"
   ]
  },
  {
   "cell_type": "code",
   "execution_count": 6,
   "id": "e8c308fb",
   "metadata": {},
   "outputs": [],
   "source": [
    "min_pixels = 100"
   ]
  },
  {
   "cell_type": "markdown",
   "id": "a4c4b594",
   "metadata": {},
   "source": [
    "### Without regime restriction"
   ]
  },
  {
   "cell_type": "code",
   "execution_count": 7,
   "id": "78ae354b",
   "metadata": {},
   "outputs": [
    {
     "name": "stdout",
     "output_type": "stream",
     "text": [
      "param: dust-av\n",
      "param: dust-g0\n",
      "param: ('dust-av', 'dust-g0')\n"
     ]
    }
   ],
   "source": [
    "for param in l_params:\n",
    "    print(\"param:\", param)\n",
    "\n",
    "    reg = {key: 'all' for key in regimes}\n",
    "\n",
    "    mis = np.zeros((len(l_lines), len(l_lines)))\n",
    "    sigmas_mi = np.zeros((len(l_lines), len(l_lines)))\n",
    "    for line1, line2 in list(itt.combinations_with_replacement(l_lines, r=2)):\n",
    "        if line1 == line2:\n",
    "            entry = select_data(ref_1, param, line1, reg)\n",
    "        else:\n",
    "            entry = select_data(data, param, (line1, line2), reg)\n",
    "        i1, i2 = l_lines.index(line1), l_lines.index(line2)\n",
    "        mis[i1, i2] = entry[\"mi\"]\n",
    "        mis[i2, i1] = entry[\"mi\"]\n",
    "\n",
    "    #\n",
    "\n",
    "    path = os.path.join(figures_dir, param_str(param), f\"regime_all\")\n",
    "    if not os.path.isdir(path):\n",
    "        os.mkdir(path)\n",
    "\n",
    "    fig = plot_mi(l_lines, mis)#, errs=sigmas_mi)\n",
    "    plt.title(f\"Mutual information between ${param_latex(param)}$ and lines intensity\")\n",
    "    plt.savefig(os.path.join(path, f\"{param_str(param)}_mi\"), bbox_inches=\"tight\")\n",
    "    \n",
    "    plt.close('all')"
   ]
  },
  {
   "cell_type": "markdown",
   "id": "bff71f92",
   "metadata": {},
   "source": [
    "### With restriction on one parameter"
   ]
  },
  {
   "cell_type": "code",
   "execution_count": 8,
   "id": "killing-newark",
   "metadata": {
    "scrolled": false
   },
   "outputs": [
    {
     "name": "stdout",
     "output_type": "stream",
     "text": [
      "param: dust-av\n",
      "param regime: dust-av\n"
     ]
    },
    {
     "name": "stderr",
     "output_type": "stream",
     "text": [
      "100%|██████████| 4/4 [00:07<00:00,  1.96s/it]\n"
     ]
    },
    {
     "name": "stdout",
     "output_type": "stream",
     "text": [
      "\n",
      "param: dust-av\n",
      "param regime: dust-g0\n"
     ]
    },
    {
     "name": "stderr",
     "output_type": "stream",
     "text": [
      "100%|██████████| 4/4 [00:14<00:00,  3.54s/it]\n"
     ]
    },
    {
     "name": "stdout",
     "output_type": "stream",
     "text": [
      "\n",
      "param: dust-g0\n",
      "param regime: dust-av\n"
     ]
    },
    {
     "name": "stderr",
     "output_type": "stream",
     "text": [
      "100%|██████████| 4/4 [00:05<00:00,  1.31s/it]\n"
     ]
    },
    {
     "name": "stdout",
     "output_type": "stream",
     "text": [
      "\n",
      "param: dust-g0\n",
      "param regime: dust-g0\n"
     ]
    },
    {
     "name": "stderr",
     "output_type": "stream",
     "text": [
      "100%|██████████| 4/4 [00:42<00:00, 10.73s/it]\n"
     ]
    },
    {
     "name": "stdout",
     "output_type": "stream",
     "text": [
      "\n",
      "param: ('dust-av', 'dust-g0')\n",
      "param regime: dust-av\n"
     ]
    },
    {
     "name": "stderr",
     "output_type": "stream",
     "text": [
      "100%|██████████| 4/4 [00:05<00:00,  1.39s/it]\n"
     ]
    },
    {
     "name": "stdout",
     "output_type": "stream",
     "text": [
      "\n",
      "param: ('dust-av', 'dust-g0')\n",
      "param regime: dust-g0\n"
     ]
    },
    {
     "name": "stderr",
     "output_type": "stream",
     "text": [
      "100%|██████████| 4/4 [00:26<00:00,  6.69s/it]\n"
     ]
    },
    {
     "name": "stdout",
     "output_type": "stream",
     "text": [
      "\n"
     ]
    }
   ],
   "source": [
    "for param, param_regime in itt.product(l_params, l_params[:2]):\n",
    "    print(\"param:\", param)\n",
    "    print(\"param regime:\", param_regime)\n",
    "\n",
    "    best_lines = np.zeros(\n",
    "        len(regimes[param_regime])\n",
    "    ).tolist()\n",
    "    confidences = np.zeros(\n",
    "        len(regimes[param_regime])\n",
    "    ).tolist()\n",
    "\n",
    "    for i in tqdm(range(len(regimes[param_regime]))):\n",
    "\n",
    "        reg = {param_regime: regimes[param_regime][i]}\n",
    "\n",
    "        mis = np.zeros((len(l_lines), len(l_lines)))\n",
    "        sigmas_mi = np.zeros((len(l_lines), len(l_lines)))\n",
    "        for line1, line2 in list(itt.combinations_with_replacement(l_lines, r=2)):\n",
    "            if line1 == line2:\n",
    "                entry = select_data(ref_1, param, line1, reg)\n",
    "            else:\n",
    "                entry = select_data(data, param, (line1, line2), reg)\n",
    "            i1, i2 = l_lines.index(line1), l_lines.index(line2)\n",
    "            mis[i1, i2], mis[i2, i1] = entry[\"mi\"], entry[\"mi\"]\n",
    "\n",
    "            try:\n",
    "                sigma = max(\n",
    "                    select_data(ref_1, param, line1, reg)[\"sigma-mi\"],\n",
    "                    select_data(ref_1, param, line2, reg)[\"sigma-mi\"],\n",
    "                )\n",
    "                sigmas_mi[i1, i2], sigmas_mi[i2, i1] = sigma, sigma\n",
    "            except TypeError:\n",
    "                sigmas_mi[i1, i2], sigmas_mi[i2, i1] = sigma, sigma\n",
    "\n",
    "        tril_x, tril_y = np.tril_indices(len(l_lines), -1) # -1 to ignore the diagonal\n",
    "\n",
    "        if not any([el is None for el in mis]) and entry[\"pixels\"] > min_pixels:\n",
    "            probs = prob_higher(mis[tril_x, tril_y], sigmas_mi[tril_x, tril_y], approx=True)\n",
    "            probs[np.isnan(probs)] = 0.\n",
    "            order = np.argsort(probs)[::-1]\n",
    "            order = order[probs[order] > 0.10] # We take the probabilities higher than 10%\n",
    "            order = order[:min(order.size, 3)] # We take only the 3 first probabilities for display reasons\n",
    "            \n",
    "            best_lines[i] = [(l_lines[tril_x[k]], l_lines[tril_y[k]]) for k in order]\n",
    "            confidences[i] = [probs[k] for k in order]\n",
    "        else:\n",
    "            best_lines[i] = None\n",
    "            confidences[i] = None\n",
    "\n",
    "        #\n",
    "\n",
    "        path = os.path.join(figures_dir, param_str(param), f\"regime_{param_str(param_regime)}\")\n",
    "        if not os.path.isdir(path):\n",
    "            os.mkdir(path)\n",
    "\n",
    "        fig = plot_mi(l_lines, mis)# errs=sigmas_mi)\n",
    "        plt.title(f\"Mutual information between ${param_latex(param)}$ and lines intensity ({regime_latex(param_regime, d_regimes, reg)})\")\n",
    "        plt.savefig(os.path.join(path, f\"{param_str(param)}_regime_{regime_str(param_regime, reg)}_mi\"), bbox_inches=\"tight\")\n",
    "        \n",
    "        plt.close('all')\n",
    "\n",
    "    fig = plot_summary_1d(param, {param_regime: d_regimes[param_regime]}, best_lines, confidences)\n",
    "    plt.title(f\"Most informative line on ${param_latex(param)}$ for each regime of ${param_latex(param_regime)}$\")\n",
    "    plt.savefig(os.path.join(path, f\"{param_str(param)}_regime_{param_str(param_regime)}_summary\"), bbox_inches=\"tight\")\n",
    "\n",
    "    plt.close(fig)\n",
    "\n",
    "    print()"
   ]
  },
  {
   "cell_type": "markdown",
   "id": "2f6341c5",
   "metadata": {},
   "source": [
    "### With restriction on two parameters"
   ]
  },
  {
   "cell_type": "code",
   "execution_count": 9,
   "id": "01eef385",
   "metadata": {},
   "outputs": [
    {
     "name": "stdout",
     "output_type": "stream",
     "text": [
      "param: dust-av\n",
      "params regime: ('dust-av', 'dust-g0')\n"
     ]
    },
    {
     "name": "stderr",
     "output_type": "stream",
     "text": [
      "100%|██████████| 16/16 [00:41<00:00,  2.62s/it]\n"
     ]
    },
    {
     "name": "stdout",
     "output_type": "stream",
     "text": [
      "\n",
      "param: dust-g0\n",
      "params regime: ('dust-av', 'dust-g0')\n"
     ]
    },
    {
     "name": "stderr",
     "output_type": "stream",
     "text": [
      "100%|██████████| 16/16 [01:25<00:00,  5.33s/it]\n"
     ]
    },
    {
     "name": "stdout",
     "output_type": "stream",
     "text": [
      "\n",
      "param: ('dust-av', 'dust-g0')\n",
      "params regime: ('dust-av', 'dust-g0')\n"
     ]
    },
    {
     "name": "stderr",
     "output_type": "stream",
     "text": [
      "100%|██████████| 16/16 [01:40<00:00,  6.31s/it]\n"
     ]
    },
    {
     "name": "stdout",
     "output_type": "stream",
     "text": [
      "\n"
     ]
    }
   ],
   "source": [
    "for param, params_regime in itt.product(l_params, l_params[2:]):\n",
    "    print(\"param:\", param)\n",
    "    print(\"params regime:\", params_regime)\n",
    "\n",
    "    best_lines = np.zeros(\n",
    "        (len(regimes[params_regime[0]]), len(regimes[params_regime[1]]))\n",
    "    ).tolist()\n",
    "    confidences = np.zeros(\n",
    "        (len(regimes[params_regime[0]]), len(regimes[params_regime[1]]))\n",
    "    ).tolist()\n",
    "\n",
    "    for i, j in tqdm(list(itt.product(*[range(len(regimes[key])) for key in params_regime]))):\n",
    "\n",
    "        reg = {\n",
    "            params_regime[0]: regimes[params_regime[0]][i],\n",
    "            params_regime[1]: regimes[params_regime[1]][j]\n",
    "        }\n",
    "\n",
    "        mis = np.zeros((len(l_lines), len(l_lines)))\n",
    "        sigmas_mi = np.zeros((len(l_lines), len(l_lines)))\n",
    "        for line1, line2 in list(itt.combinations_with_replacement(l_lines, r=2)):\n",
    "            if line1 == line2:\n",
    "                entry = select_data(ref_1, param, line1, reg)\n",
    "            else:\n",
    "                entry = select_data(data, param, (line1, line2), reg)\n",
    "            i1, i2 = l_lines.index(line1), l_lines.index(line2)\n",
    "            mis[i1, i2], mis[i2, i1] = entry[\"mi\"], entry[\"mi\"]\n",
    "\n",
    "            try:\n",
    "                sigma = max(\n",
    "                    select_data(ref_1, param, line1, reg)[\"sigma-mi\"],\n",
    "                    select_data(ref_1, param, line2, reg)[\"sigma-mi\"],\n",
    "                )\n",
    "                sigmas_mi[i1, i2], sigmas_mi[i2, i1] = sigma, sigma\n",
    "            except TypeError:\n",
    "                sigmas_mi[i1, i2], sigmas_mi[i2, i1] = None, None\n",
    "\n",
    "        tril_x, tril_y = np.tril_indices(len(l_lines), -1)  # -1 to ignore the diagonal\n",
    "\n",
    "        if not any([el is None for el in mis]) and entry[\"pixels\"] > min_pixels:\n",
    "            probs = prob_higher(mis[tril_x, tril_y], sigmas_mi[tril_x, tril_y], approx=True)\n",
    "            probs[np.isnan(probs)] = 0.\n",
    "            order = np.argsort(probs)[::-1]\n",
    "            order = order[probs[order] > 0.10] # We take the probabilities higher than 10%\n",
    "            order = order[:min(order.size, 3)] # We take only the 3 first probabilities for display reasons\n",
    "            \n",
    "            best_lines[i][j] = [(l_lines[tril_x[k]], l_lines[tril_y[k]]) for k in order]\n",
    "            confidences[i][j] = [probs[k] for k in order]\n",
    "        else:\n",
    "            best_lines[i][j] = None\n",
    "            confidences[i][j] = None\n",
    "\n",
    "        #\n",
    "\n",
    "        path = os.path.join(figures_dir, param_str(param), f\"regime_{param_str(params_regime)}\")\n",
    "        if not os.path.isdir(path):\n",
    "            os.mkdir(path)\n",
    "\n",
    "        try:\n",
    "            fig = plot_mi(l_lines, mis)#, errs=sigmas_mi)\n",
    "            plt.title(f\"Mutual information between ${param_latex(param)}$ and lines intensity ({regime_latex(params_regime, d_regimes, reg)})\")\n",
    "            plt.savefig(os.path.join(path, f\"{param_str(param)}_regime_{regime_str(params_regime, reg)}_mi\"), bbox_inches=\"tight\")\n",
    "        except:\n",
    "            pass\n",
    "\n",
    "        plt.close('all')\n",
    "\n",
    "    fig = plot_summary_2d(param, {key: d_regimes[key] for key in params_regime}, best_lines, confidences)\n",
    "    plt.title(f\"Most informative line on ${param_latex(param)}$ for different regimes of ${param_latex(params_regime[0])}$ and ${param_latex(params_regime[1])}$\")\n",
    "    plt.savefig(os.path.join(path, f\"{param_str(param)}_regime_{param_str(params_regime)}_summary\"), bbox_inches=\"tight\")\n",
    "    \n",
    "    plt.close(fig)\n",
    "\n",
    "    print()"
   ]
  }
 ],
 "metadata": {
  "kernelspec": {
   "display_name": "Python 3 (ipykernel)",
   "language": "python",
   "name": "python3"
  },
  "language_info": {
   "codemirror_mode": {
    "name": "ipython",
    "version": 3
   },
   "file_extension": ".py",
   "mimetype": "text/x-python",
   "name": "python",
   "nbconvert_exporter": "python",
   "pygments_lexer": "ipython3",
   "version": "3.9.2"
  }
 },
 "nbformat": 4,
 "nbformat_minor": 5
}
