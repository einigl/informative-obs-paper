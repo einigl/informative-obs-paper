{
 "cells": [
  {
   "cell_type": "markdown",
   "id": "6b0a6072",
   "metadata": {},
   "source": [
    "# Most informative combination of two lines"
   ]
  },
  {
   "cell_type": "code",
   "execution_count": 1,
   "id": "necessary-mitchell",
   "metadata": {},
   "outputs": [],
   "source": [
    "import os\n",
    "import sys\n",
    "import yaml\n",
    "import shutil\n",
    "import itertools as itt\n",
    "from typing import List, Dict, Union, Tuple\n",
    "\n",
    "import numpy as np\n",
    "import matplotlib.pyplot as plt\n",
    "from tqdm import tqdm\n",
    "\n",
    "sys.path.insert(0, os.path.join(\"..\", \"..\"))\n",
    "sys.path.insert(1, os.path.join(\"..\"))\n",
    "\n",
    "from infovar import DiscreteHandler\n",
    "from infovar.stats.ranking import prob_higher\n",
    "\n",
    "from infobs.plots import Plotter\n",
    "from orion_util import latex_line, latex_param \n",
    "\n",
    "plt.rc(\"text\", usetex=True)\n",
    "\n",
    "data_dir = os.path.join(\"..\", \"data\", \"discrete\")\n",
    "figures_dir = os.path.join(\"2_lines_discrete\")"
   ]
  },
  {
   "cell_type": "markdown",
   "id": "dd9ec43a",
   "metadata": {},
   "source": [
    "## Configuration of Handler"
   ]
  },
  {
   "cell_type": "code",
   "execution_count": 2,
   "id": "bd2e8aed",
   "metadata": {},
   "outputs": [],
   "source": [
    "handler = DiscreteHandler()\n",
    "\n",
    "handler.set_paths(\n",
    "    save_path=data_dir\n",
    ")"
   ]
  },
  {
   "cell_type": "markdown",
   "id": "465ef148",
   "metadata": {},
   "source": [
    "## Configuration of Plotter"
   ]
  },
  {
   "cell_type": "code",
   "execution_count": 3,
   "id": "c5dec025",
   "metadata": {},
   "outputs": [],
   "source": [
    "plotter = Plotter(\n",
    "    line_formatter=latex_line,\n",
    "    param_formatter=latex_param\n",
    ")\n",
    "\n",
    "latex_comb_lines = lambda ls: plotter.lines_comb_formatter(ls, short=True)\n",
    "latex_comb_params = lambda ps: plotter.params_comb_formatter(ps)"
   ]
  },
  {
   "cell_type": "markdown",
   "id": "80944643",
   "metadata": {},
   "source": [
    "## Load data files"
   ]
  },
  {
   "cell_type": "code",
   "execution_count": 4,
   "id": "3d7eb805",
   "metadata": {},
   "outputs": [],
   "source": [
    "# Load references informations\n",
    "\n",
    "with open(os.path.join(data_dir, \"..\", \"reference.yaml\"), 'r') as f:\n",
    "    ref = yaml.safe_load(f)\n",
    "\n",
    "\n",
    "# Define lines, parameters and physical regimes of interest\n",
    "\n",
    "params = [\n",
    "    \"av\",\n",
    "    \"g0\",\n",
    "    [\"av\", \"g0\"]\n",
    "]\n",
    "\n",
    "lines = [\n",
    "    \"13co10\",\n",
    "    \"12cs21\",\n",
    "    \"12co10\",\n",
    "    \"hcn10\",\n",
    "    \"n2hp10\",\n",
    "    \"hcop10\",\n",
    "    \"cch10\",\n",
    "    \"32so21\",\n",
    "    \"hnc10\",\n",
    "    \"c18o10\",\n",
    "    \"ch3oh21\",\n",
    "    \"h2co\",\n",
    "    \"12cn10\",\n",
    "    \"h13cop10\",\n",
    "    \"c3h2\",\n",
    "    \"c17o10\"\n",
    "]\n",
    "\n",
    "regimes = {\n",
    "    'av': ['1', '2', '3', '4'], # Ignore lowest regime\n",
    "    'g0': ['1', '2', '3', '4'], # Ignore lowest regime\n",
    "}\n",
    "\n",
    "min_pixels = 200"
   ]
  },
  {
   "cell_type": "markdown",
   "id": "b661e569",
   "metadata": {},
   "source": [
    "## Plot figures (one or two parameters)\n",
    "\n",
    "- Without regime restriction\n",
    "- With restriction on a single parameter\n",
    "- With restriction on two parameters"
   ]
  },
  {
   "cell_type": "code",
   "execution_count": 5,
   "id": "b40b8ae0",
   "metadata": {},
   "outputs": [],
   "source": [
    "def param_str(params: Union[str, List[str]]):\n",
    "    if isinstance(params, str):\n",
    "        return params\n",
    "    return \"_\".join(params)\n",
    "\n",
    "def regime_str(params: Union[str, Tuple[str, str]], reg: Dict[str, str]):\n",
    "    if isinstance(params, str):\n",
    "        return param_str(params) + \"_\" + reg[params]\n",
    "    return \"_\".join([param_str(param) + \"_\" + reg[param] for param in params])"
   ]
  },
  {
   "cell_type": "code",
   "execution_count": 6,
   "id": "75d2ffb8",
   "metadata": {},
   "outputs": [],
   "source": [
    "# Remove folder of parameters if exist and recreate them\n",
    "for param in params:\n",
    "    path = os.path.join(figures_dir, param_str(param))\n",
    "    if os.path.isdir(path):\n",
    "        shutil.rmtree(path)\n",
    "    os.mkdir(path)"
   ]
  },
  {
   "cell_type": "markdown",
   "id": "a4c4b594",
   "metadata": {},
   "source": [
    "### Without regime restriction"
   ]
  },
  {
   "cell_type": "code",
   "execution_count": 7,
   "id": "78ae354b",
   "metadata": {},
   "outputs": [
    {
     "name": "stdout",
     "output_type": "stream",
     "text": [
      "param: av\n",
      "param: g0\n",
      "param: ['av', 'g0']\n"
     ]
    }
   ],
   "source": [
    "for param in params:\n",
    "    print(\"param:\", param)\n",
    "\n",
    "    reg = {key: 'all' for key in regimes}\n",
    "\n",
    "    entries = [handler.read(param, line, reg) for line in lines]\n",
    "\n",
    "    #\n",
    "\n",
    "    infos = {\n",
    "        'mi': np.zeros((len(lines), len(lines))),\n",
    "        'lin': np.zeros((len(lines), len(lines))),\n",
    "    }\n",
    "    sigmas = {\n",
    "        'mi': np.zeros((len(lines), len(lines))),\n",
    "        'lin':np.zeros((len(lines), len(lines))),\n",
    "    }\n",
    "\n",
    "    #\n",
    "\n",
    "    for line1, line2 in list(itt.combinations_with_replacement(lines, r=2)):\n",
    "        if line1 == line2:\n",
    "            entry = handler.read(param, line1, reg)\n",
    "        else:\n",
    "            entry = handler.read(param, (line1, line2), reg)\n",
    "\n",
    "        i1, i2 = lines.index(line1), lines.index(line2)\n",
    "\n",
    "        infos[\"mi\"][i1, i2] = entry[\"mi\"]\n",
    "        # sigmas[\"mi\"][i2, i1] = entry[\"mi-std\"]\n",
    "        \n",
    "        infos[\"lin\"][i1, i2] = entry[\"linearinfo\"]\n",
    "        # sigmas[\"lin\"][i2, i1] = entry[\"linearinfo-std\"]\n",
    "\n",
    "    #\n",
    "\n",
    "    path = os.path.join(figures_dir, param_str(param), f\"regime_all\")\n",
    "    if not os.path.isdir(path):\n",
    "        os.mkdir(path)\n",
    "\n",
    "    #\n",
    "\n",
    "    fig = plotter.plot_mi_matrix(lines, infos[\"mi\"])\n",
    "    plt.title(f\"Mutual information between ${latex_comb_params(param)}$ and lines intensity\")\n",
    "    plt.savefig(os.path.join(path, f\"{param_str(param)}_mi\"), bbox_inches=\"tight\")\n",
    "\n",
    "    fig = plotter.plot_mi_matrix(lines, infos[\"lin\"])\n",
    "    plt.title(f\"Linear information between ${latex_comb_params(param)}$ and lines intensity\")\n",
    "    plt.savefig(os.path.join(path, f\"{param_str(param)}_lin\"), bbox_inches=\"tight\")\n",
    "\n",
    "    plt.close('all')"
   ]
  },
  {
   "cell_type": "markdown",
   "id": "bff71f92",
   "metadata": {},
   "source": [
    "### With restriction on one parameter"
   ]
  },
  {
   "cell_type": "code",
   "execution_count": 8,
   "id": "killing-newark",
   "metadata": {
    "scrolled": false
   },
   "outputs": [
    {
     "name": "stdout",
     "output_type": "stream",
     "text": [
      "param: av\n",
      "param regime: av\n"
     ]
    },
    {
     "name": "stderr",
     "output_type": "stream",
     "text": [
      "100%|██████████| 4/4 [00:23<00:00,  5.96s/it]\n"
     ]
    },
    {
     "name": "stdout",
     "output_type": "stream",
     "text": [
      "\n",
      "param: av\n",
      "param regime: g0\n"
     ]
    },
    {
     "name": "stderr",
     "output_type": "stream",
     "text": [
      "100%|██████████| 4/4 [00:39<00:00,  9.93s/it]\n"
     ]
    },
    {
     "name": "stdout",
     "output_type": "stream",
     "text": [
      "\n",
      "param: g0\n",
      "param regime: av\n"
     ]
    },
    {
     "name": "stderr",
     "output_type": "stream",
     "text": [
      "100%|██████████| 4/4 [00:20<00:00,  5.21s/it]\n"
     ]
    },
    {
     "name": "stdout",
     "output_type": "stream",
     "text": [
      "\n",
      "param: g0\n",
      "param regime: g0\n"
     ]
    },
    {
     "name": "stderr",
     "output_type": "stream",
     "text": [
      "100%|██████████| 4/4 [01:27<00:00, 21.75s/it]\n"
     ]
    },
    {
     "name": "stdout",
     "output_type": "stream",
     "text": [
      "\n",
      "param: ['av', 'g0']\n",
      "param regime: av\n"
     ]
    },
    {
     "name": "stderr",
     "output_type": "stream",
     "text": [
      "100%|██████████| 4/4 [00:20<00:00,  5.15s/it]\n"
     ]
    },
    {
     "name": "stdout",
     "output_type": "stream",
     "text": [
      "\n",
      "param: ['av', 'g0']\n",
      "param regime: g0\n"
     ]
    },
    {
     "name": "stderr",
     "output_type": "stream",
     "text": [
      "100%|██████████| 4/4 [00:36<00:00,  9.17s/it]\n"
     ]
    },
    {
     "name": "stdout",
     "output_type": "stream",
     "text": [
      "\n"
     ]
    }
   ],
   "source": [
    "for param, param_regime in itt.product(params, params[:2]):\n",
    "    print(\"param:\", param)\n",
    "    print(\"param regime:\", param_regime)\n",
    "\n",
    "    best_lines = {\n",
    "        'mi': np.zeros(len(regimes[param_regime])).tolist(),\n",
    "        'lin': np.zeros(len(regimes[param_regime])).tolist()\n",
    "    }\n",
    "    confidences = {\n",
    "        'mi': np.zeros(len(regimes[param_regime])).tolist(),\n",
    "        'lin': np.zeros(len(regimes[param_regime])).tolist(),\n",
    "    }\n",
    "\n",
    "    for i in tqdm(range(len(regimes[param_regime]))):\n",
    "\n",
    "        reg = {param_regime: regimes[param_regime][i]}\n",
    "\n",
    "        infos = {\n",
    "            'mi': np.zeros((len(lines), len(lines))),\n",
    "            'lin': np.zeros((len(lines), len(lines)))\n",
    "        }\n",
    "        sigmas = {\n",
    "            'mi': np.zeros((len(lines), len(lines))),\n",
    "            'lin': np.zeros((len(lines), len(lines)))\n",
    "        }\n",
    "\n",
    "        for line1, line2 in list(itt.combinations_with_replacement(lines, r=2)):\n",
    "            if line1 == line2:\n",
    "                entry = handler.read(param, line1, reg)\n",
    "            else:\n",
    "                entry = handler.read(param, (line1, line2), reg)\n",
    "\n",
    "            i1, i2 = lines.index(line1), lines.index(line2)\n",
    "\n",
    "            infos[\"mi\"][i1, i2], infos[\"mi\"][i2, i1] = entry[\"mi\"], entry[\"mi\"]\n",
    "            sigmas[\"mi\"][i1, i2], sigmas[\"mi\"][i2, i1] = entry[\"mi-std\"], entry[\"mi-std\"]\n",
    "\n",
    "            infos[\"lin\"][i1, i2], infos[\"lin\"][i2, i1] = entry[\"linearinfo\"], entry[\"linearinfo\"]\n",
    "            sigmas[\"lin\"][i1, i2], sigmas[\"lin\"][i2, i1] = entry[\"linearinfo-std\"], entry[\"linearinfo-std\"]\n",
    "\n",
    "        tril_x, tril_y = np.tril_indices(len(lines), -1) # -1 to ignore the diagonal\n",
    "\n",
    "        for stat in [\"mi\", \"lin\"]:\n",
    "            if entry[\"samples\"] > min_pixels:\n",
    "                probs = prob_higher(infos[stat][tril_x, tril_y], sigmas[stat][tril_x, tril_y], approx=True)\n",
    "                probs[np.isnan(probs)] = 0.\n",
    "\n",
    "                order = np.argsort(probs)[::-1]\n",
    "                order = order[probs[order] > 0.10] # We take the probabilities higher than 10%\n",
    "                order = order[:min(order.size, 3)] # We take only the 3 first probabilities for display reasons\n",
    "                \n",
    "                best_lines[stat][i] = [(lines[tril_x[k]], lines[tril_y[k]]) for k in order]\n",
    "                confidences[stat][i] = [probs[k] for k in order]\n",
    "            else:\n",
    "                best_lines[stat][i] = None\n",
    "                confidences[stat][i] = None\n",
    "\n",
    "        #\n",
    "\n",
    "        path = os.path.join(figures_dir, param_str(param), f\"regime_{param_str(param_regime)}\")\n",
    "        if not os.path.isdir(path):\n",
    "            os.mkdir(path)\n",
    "\n",
    "        reg_latex = plotter.regime_formatter(param_regime, ref[\"ranges\"][param_regime][reg[param_regime]])\n",
    "\n",
    "        #\n",
    "\n",
    "        fig = plotter.plot_mi_matrix(lines, infos[\"mi\"])\n",
    "        plt.title(f\"Mutual information between ${latex_comb_params(param)}$ and lines intensity ({reg_latex})\")\n",
    "        plt.savefig(os.path.join(path, f\"{param_str(param)}_regime_{regime_str(param_regime, reg)}_mi\"), bbox_inches=\"tight\")\n",
    "        \n",
    "        fig = plotter.plot_mi_matrix(lines, infos[\"lin\"])\n",
    "        plt.title(f\"Mutual information between ${latex_comb_params(param)}$ and lines intensity ({reg_latex})\")\n",
    "        plt.savefig(os.path.join(path, f\"{param_str(param)}_regime_{regime_str(param_regime, reg)}_lin\"), bbox_inches=\"tight\")\n",
    "\n",
    "        plt.close('all')\n",
    "\n",
    "    _regimes = {param_regime: {k: ref[\"ranges\"][param_regime][k] for k in regimes[param_regime]}}\n",
    "\n",
    "    fig = plotter.plot_summary_1d(param, _regimes, best_lines[\"mi\"], confidences[\"mi\"])\n",
    "    plt.title(f\"Most informative line on ${latex_comb_params(param)}$ for each regime of ${latex_comb_params(param_regime)}$\")\n",
    "    plt.savefig(os.path.join(path, f\"{param_str(param)}_regime_{param_str(param_regime)}_mi_summary\"), bbox_inches=\"tight\")\n",
    "\n",
    "    fig = plotter.plot_summary_1d(param, _regimes, best_lines[\"lin\"], confidences[\"lin\"])\n",
    "    plt.title(f\"Most informative line on ${latex_comb_params(param)}$ for each regime of ${latex_comb_params(param_regime)}$\")\n",
    "    plt.savefig(os.path.join(path, f\"{param_str(param)}_regime_{param_str(param_regime)}_lin_summary\"), bbox_inches=\"tight\")\n",
    "\n",
    "    plt.close('all')\n",
    "\n",
    "    print()"
   ]
  },
  {
   "cell_type": "markdown",
   "id": "2f6341c5",
   "metadata": {},
   "source": [
    "### With restriction on two parameters"
   ]
  },
  {
   "cell_type": "code",
   "execution_count": 10,
   "id": "01eef385",
   "metadata": {},
   "outputs": [
    {
     "name": "stdout",
     "output_type": "stream",
     "text": [
      "param: av\n",
      "params regime: ['av', 'g0']\n"
     ]
    },
    {
     "name": "stderr",
     "output_type": "stream",
     "text": [
      "  0%|          | 0/16 [00:00<?, ?it/s]"
     ]
    },
    {
     "name": "stderr",
     "output_type": "stream",
     "text": [
      "100%|██████████| 16/16 [03:35<00:00, 13.46s/it]\n"
     ]
    },
    {
     "name": "stdout",
     "output_type": "stream",
     "text": [
      "\n",
      "param: g0\n",
      "params regime: ['av', 'g0']\n"
     ]
    },
    {
     "name": "stderr",
     "output_type": "stream",
     "text": [
      "100%|██████████| 16/16 [04:31<00:00, 17.00s/it]\n"
     ]
    },
    {
     "name": "stdout",
     "output_type": "stream",
     "text": [
      "\n",
      "param: ['av', 'g0']\n",
      "params regime: ['av', 'g0']\n"
     ]
    },
    {
     "name": "stderr",
     "output_type": "stream",
     "text": [
      "100%|██████████| 16/16 [03:07<00:00, 11.71s/it]\n"
     ]
    },
    {
     "name": "stdout",
     "output_type": "stream",
     "text": [
      "\n"
     ]
    }
   ],
   "source": [
    "for param, params_regime in itt.product(params, params[2:]):\n",
    "    print(\"param:\", param)\n",
    "    print(\"params regime:\", params_regime)\n",
    "\n",
    "    best_lines = {\n",
    "        'mi': np.zeros((len(regimes[params_regime[0]]), len(regimes[params_regime[1]]))).tolist(),\n",
    "        'lin': np.zeros((len(regimes[params_regime[0]]), len(regimes[params_regime[1]]))).tolist()\n",
    "    }\n",
    "    confidences = {\n",
    "        'mi': np.zeros((len(regimes[params_regime[0]]), len(regimes[params_regime[1]]))).tolist(),\n",
    "        'lin': np.zeros((len(regimes[params_regime[0]]), len(regimes[params_regime[1]]))).tolist()\n",
    "    }\n",
    "\n",
    "    for i, j in tqdm(list(itt.product(*[range(len(regimes[key])) for key in params_regime]))):\n",
    "\n",
    "        reg = {\n",
    "            params_regime[0]: regimes[params_regime[0]][i],\n",
    "            params_regime[1]: regimes[params_regime[1]][j]\n",
    "        }\n",
    "\n",
    "        infos = {\n",
    "            'mi': np.zeros((len(lines), len(lines))),\n",
    "            'lin': np.zeros((len(lines), len(lines)))\n",
    "        }\n",
    "        sigmas = {\n",
    "            'mi': np.zeros((len(lines), len(lines))),\n",
    "            'lin': np.zeros((len(lines), len(lines)))\n",
    "        }\n",
    "        \n",
    "        for line1, line2 in list(itt.combinations_with_replacement(lines, r=2)):\n",
    "            if line1 == line2:\n",
    "                entry = handler.read(param, line1, reg)\n",
    "            else:\n",
    "                entry = handler.read(param, (line1, line2), reg)\n",
    "            i1, i2 = lines.index(line1), lines.index(line2)\n",
    "\n",
    "            infos[\"mi\"][i1, i2], infos[\"mi\"][i2, i1] = entry.get(\"mi\"), entry.get(\"mi\")\n",
    "            sigmas[\"mi\"][i1, i2], sigmas[\"mi\"][i2, i1] = entry.get(\"mi-std\"), entry.get(\"mi-std\")\n",
    "\n",
    "            infos[\"lin\"][i1, i2], infos[\"lin\"][i2, i1] = entry.get(\"linearinfo\"), entry.get(\"linearinfo\")\n",
    "            sigmas[\"lin\"][i1, i2], sigmas[\"lin\"][i2, i1] = entry.get(\"linearinfo-std\"), entry.get(\"linearinfo-std\")\n",
    "\n",
    "        tril_x, tril_y = np.tril_indices(len(lines), -1)  # -1 to ignore the diagonal\n",
    "\n",
    "        for stat in [\"mi\", \"lin\"]:\n",
    "            if entry[\"samples\"] > min_pixels:\n",
    "                probs = prob_higher(infos[stat][tril_x, tril_y], sigmas[stat][tril_x, tril_y], approx=True)\n",
    "                probs[np.isnan(probs)] = 0.\n",
    "\n",
    "                order = np.argsort(probs)[::-1]\n",
    "                order = order[probs[order] > 0.10] # We take the probabilities higher than 10%\n",
    "                order = order[:min(order.size, 3)] # We take only the 3 first probabilities for display reasons\n",
    "                \n",
    "                best_lines[stat][i][j] = [(lines[tril_x[k]], lines[tril_y[k]]) for k in order]\n",
    "                confidences[stat][i][j] = [probs[k] for k in order]\n",
    "            else:\n",
    "                best_lines[stat][i][j] = None\n",
    "                confidences[stat][i][j] = None\n",
    "\n",
    "        #\n",
    "\n",
    "        path = os.path.join(figures_dir, param_str(param), f\"regime_{param_str(params_regime)}\")\n",
    "        if not os.path.isdir(path):\n",
    "            os.mkdir(path)\n",
    "\n",
    "        reg_latex = ', '.join([\n",
    "            plotter.regime_formatter(param_regime, ref[\"ranges\"][param_regime][reg[param_regime]])\\\n",
    "                for param_regime in params_regime\n",
    "        ])\n",
    "\n",
    "        #\n",
    "\n",
    "        try:\n",
    "            fig = plotter.plot_mi_matrix(lines, infos[\"mi\"])\n",
    "            plt.title(f\"Mutual information between ${latex_comb_params(param)}$ and lines intensity ({reg_latex})\")\n",
    "            plt.savefig(os.path.join(path, f\"{param_str(param)}_regime_{regime_str(params_regime, reg)}_mi\"), bbox_inches=\"tight\")\n",
    "\n",
    "            fig = plotter.plot_mi_matrix(lines, infos[\"lin\"])\n",
    "            plt.title(f\"Linear information between ${latex_comb_params(param)}$ and lines intensity ({reg_latex})\")\n",
    "            plt.savefig(os.path.join(path, f\"{param_str(param)}_regime_{regime_str(params_regime, reg)}_lin\"), bbox_inches=\"tight\")\n",
    "        except:\n",
    "            pass\n",
    "\n",
    "        plt.close('all')\n",
    "\n",
    "    _regimes = {param_regime: {k: ref[\"ranges\"][param_regime][k] for k in regimes[param_regime]} for param_regime in params_regime}\n",
    "\n",
    "    fig = plotter.plot_summary_2d(param, _regimes, best_lines[\"mi\"], confidences[\"mi\"])\n",
    "    plt.title(f\"Most informative line on ${latex_comb_params(param)}$ for different regimes of ${latex_comb_params(params_regime[0])}$ and ${latex_comb_params(params_regime[1])}$\")\n",
    "    plt.savefig(os.path.join(path, f\"{param_str(param)}_regime_{param_str(params_regime)}_mi_summary\"), bbox_inches=\"tight\")\n",
    "\n",
    "    fig = plotter.plot_summary_2d(param, _regimes, best_lines[\"lin\"], confidences[\"lin\"])\n",
    "    plt.title(f\"Most informative line on ${latex_comb_params(param)}$ for different regimes of ${latex_comb_params(params_regime[0])}$ and ${latex_comb_params(params_regime[1])}$\")\n",
    "    plt.savefig(os.path.join(path, f\"{param_str(param)}_regime_{param_str(params_regime)}_lin_summary\"), bbox_inches=\"tight\")\n",
    "    \n",
    "    plt.close('all')\n",
    "\n",
    "    print()"
   ]
  }
 ],
 "metadata": {
  "kernelspec": {
   "display_name": "Python 3 (ipykernel)",
   "language": "python",
   "name": "python3"
  },
  "language_info": {
   "codemirror_mode": {
    "name": "ipython",
    "version": 3
   },
   "file_extension": ".py",
   "mimetype": "text/x-python",
   "name": "python",
   "nbconvert_exporter": "python",
   "pygments_lexer": "ipython3",
   "version": "3.9.2"
  }
 },
 "nbformat": 4,
 "nbformat_minor": 5
}
