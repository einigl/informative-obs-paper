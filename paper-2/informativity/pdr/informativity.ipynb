{
 "cells": [
  {
   "cell_type": "markdown",
   "id": "24cb8528",
   "metadata": {},
   "source": [
    "# Most informative lines figures"
   ]
  },
  {
   "cell_type": "code",
   "execution_count": 13,
   "id": "necessary-mitchell",
   "metadata": {},
   "outputs": [],
   "source": [
    "import os\n",
    "import sys\n",
    "import yaml\n",
    "import json\n",
    "import shutil\n",
    "import itertools as itt\n",
    "from typing import List, Dict, Union, Tuple\n",
    "\n",
    "import numpy as np\n",
    "import matplotlib.pyplot as plt\n",
    "import pandas as pd\n",
    "from tqdm import tqdm\n",
    "from tqdm import tqdm\n",
    "\n",
    "sys.path.insert(0, os.path.join(\"..\", \"..\"))\n",
    "sys.path.insert(1, os.path.join(\"..\"))\n",
    "\n",
    "from infovar import DiscreteHandler\n",
    "from infovar.stats.ranking import prob_higher\n",
    "from infovar.stats.statistics import MI\n",
    "from infovar.stats.resampling import Subsampling\n",
    "\n",
    "from infobs.plots import Plotter\n",
    "from orion_util import get_pixels_of_region, latex_line, latex_param \n",
    "\n",
    "plt.rc(\"text\", usetex=True)\n",
    "\n",
    "env_name = \"pdr3\"\n",
    "\n",
    "data_dir = os.path.join(\"..\", \"data\", \"raw\", \"emir_simulations\")\n",
    "\n",
    "if not os.path.exists(env_name):\n",
    "    os.mkdir(env_name)"
   ]
  },
  {
   "cell_type": "markdown",
   "id": "66e63543",
   "metadata": {},
   "source": [
    "## Configuration of Plotter"
   ]
  },
  {
   "cell_type": "code",
   "execution_count": 14,
   "id": "0953dd8f",
   "metadata": {},
   "outputs": [],
   "source": [
    "plotter = Plotter(\n",
    "    line_formatter=latex_line,\n",
    "    param_formatter=latex_param,\n",
    ")\n",
    "\n",
    "latex_comb_lines = lambda ls: plotter.lines_comb_formatter(ls, short=False)\n",
    "latex_comb_params = lambda ps: plotter.params_comb_formatter(ps)"
   ]
  },
  {
   "cell_type": "markdown",
   "id": "8d65556b",
   "metadata": {},
   "source": [
    "## Environment"
   ]
  },
  {
   "cell_type": "code",
   "execution_count": 15,
   "id": "6f5889dc",
   "metadata": {},
   "outputs": [],
   "source": [
    "with open('envs.yaml', 'r') as f:\n",
    "    envs_dict = yaml.safe_load(f)"
   ]
  },
  {
   "cell_type": "markdown",
   "id": "80944643",
   "metadata": {},
   "source": [
    "## Simulate environment"
   ]
  },
  {
   "cell_type": "code",
   "execution_count": 16,
   "id": "a57de7d1",
   "metadata": {},
   "outputs": [],
   "source": [
    "n_samples = 100_000\n",
    "# low, upp = get_physical_env(env_name)\n",
    "# low = envs_dict[env_name][\"lower_bounds_lin\"]\n",
    "# upp = envs_dict[env_name][\"upper_bounds_lin\"]  \n",
    "\n",
    "with open(\"envs.yaml\", \"r\") as f:\n",
    "    d = yaml.safe_load(f)\n",
    "    low, upp = d[env_name][\"lower_bounds_lin\"], d[env_name][\"upper_bounds_lin\"]\n",
    "\n",
    "df = simulate(\n",
    "    n_samples,\n",
    "    lower_bounds_lin = low,\n",
    "    upper_bounds_lin = upp,\n",
    "    obs_time = 0.75\n",
    ")"
   ]
  },
  {
   "cell_type": "code",
   "execution_count": 17,
   "id": "713c15aa",
   "metadata": {},
   "outputs": [
    {
     "name": "stdout",
     "output_type": "stream",
     "text": [
      "Number of parameters: 3\n",
      "Number of lines: 38\n"
     ]
    }
   ],
   "source": [
    "params = df.columns.to_list()[:3]\n",
    "lines = df.columns.to_list()[3:]\n",
    "\n",
    "print(\"Number of parameters:\", len(params))\n",
    "print(\"Number of lines:\", len(lines))"
   ]
  },
  {
   "cell_type": "code",
   "execution_count": 18,
   "id": "b40b8ae0",
   "metadata": {},
   "outputs": [],
   "source": [
    "def param_str(params: Union[str, List[str]]):\n",
    "    if isinstance(params, str):\n",
    "        return params\n",
    "    return \"_\".join(params)\n",
    "\n",
    "def regime_str(params: Union[str, Tuple[str, str]], reg: Dict[str, str]):\n",
    "    if isinstance(params, str):\n",
    "        return param_str(params) + \"_\" + reg[params]\n",
    "    return \"_\".join([param_str(param) + \"_\" + reg[param] for param in params])"
   ]
  },
  {
   "cell_type": "markdown",
   "id": "a4c4b594",
   "metadata": {},
   "source": [
    "## Plot without regime restriction"
   ]
  },
  {
   "cell_type": "code",
   "execution_count": 19,
   "id": "549d7b62",
   "metadata": {},
   "outputs": [],
   "source": [
    "# Samples restriction\n",
    "_df = df.loc[:10_000]"
   ]
  },
  {
   "cell_type": "code",
   "execution_count": 20,
   "id": "0cae3ae1",
   "metadata": {},
   "outputs": [],
   "source": [
    "mi = MI()\n",
    "subsampling = Subsampling()\n",
    "\n",
    "subsampling_params = {\n",
    "    \"stat\": mi,\n",
    "    \"n\": 5,\n",
    "    \"min_samples\": 20,\n",
    "    \"min_subsets\": 5,\n",
    "    \"decades\": 2,\n",
    "}"
   ]
  },
  {
   "cell_type": "code",
   "execution_count": 21,
   "id": "78ae354b",
   "metadata": {},
   "outputs": [
    {
     "name": "stdout",
     "output_type": "stream",
     "text": [
      "param: P\n"
     ]
    },
    {
     "name": "stderr",
     "output_type": "stream",
     "text": [
      "100%|██████████| 38/38 [00:22<00:00,  1.66it/s]\n"
     ]
    },
    {
     "name": "stdout",
     "output_type": "stream",
     "text": [
      "param: radm\n"
     ]
    },
    {
     "name": "stderr",
     "output_type": "stream",
     "text": [
      "100%|██████████| 38/38 [00:22<00:00,  1.67it/s]\n"
     ]
    },
    {
     "name": "stdout",
     "output_type": "stream",
     "text": [
      "param: Avmax\n"
     ]
    },
    {
     "name": "stderr",
     "output_type": "stream",
     "text": [
      "100%|██████████| 38/38 [00:22<00:00,  1.69it/s]\n"
     ]
    }
   ],
   "source": [
    "ref_lines = {}\n",
    "ref_mis = {}\n",
    "ref_sigmas = {}\n",
    "for param in params:\n",
    "    print(\"param:\", param)\n",
    "    y = _df[param].to_numpy()\n",
    "    y = y.reshape(-1, 1)\n",
    "    \n",
    "    mis = []\n",
    "    sigmas = []\n",
    "    for line in tqdm(lines):\n",
    "        x = _df[line].to_numpy()\n",
    "        x = x.reshape(-1, 1)\n",
    "        \n",
    "        mis.append(\n",
    "            mi(x, y)\n",
    "        )\n",
    "\n",
    "        sigmas.append(\n",
    "            subsampling.compute_sigma(\n",
    "                x, y, **subsampling_params\n",
    "            )\n",
    "        )\n",
    "    \n",
    "    #\n",
    "    \n",
    "    n_lines = len(lines)\n",
    "\n",
    "    idx = np.argsort(mis)[::-1][:n_lines]\n",
    "    _lines = [lines[i] for i in idx]\n",
    "    _mis = [mis[i] for i in idx]\n",
    "    _sigmas = [sigmas[i] for i in idx]\n",
    "    \n",
    "    #\n",
    "\n",
    "    plt.figure(figsize=(n_lines/10 * 6.4, 4.8), dpi=150)\n",
    "    _ = plotter.plot_mi_bar(_lines, _mis, sorted=False, errs=_sigmas, short_names=False)\n",
    "    plt.title(f\"Mutual information between ${latex_comb_params(param)}$ and lines intensity\")\n",
    "    plt.savefig(os.path.join(env_name, f\"{param_str(param)}_mi\"), bbox_inches=\"tight\")\n",
    "    \n",
    "    plt.close('all')\n",
    "\n",
    "    #\n",
    "\n",
    "    ref_lines[param] = _lines\n",
    "    ref_mis[param] = _mis\n",
    "    ref_sigmas[param] = _sigmas"
   ]
  },
  {
   "cell_type": "code",
   "execution_count": 22,
   "id": "c0c99645",
   "metadata": {},
   "outputs": [
    {
     "data": {
      "text/plain": [
       "{'P': ['cn_n1_j1d5__n0_j0d5',\n",
       "  'cn_n1_j0d5__n0_j0d5',\n",
       "  'cs_j3__j2',\n",
       "  'co_v0_j3__v0_j2',\n",
       "  'cs_j2__j1',\n",
       "  'cs_j5__j4',\n",
       "  '13c_o_j3__j2',\n",
       "  'hcop_j3__j2',\n",
       "  'co_v0_j2__v0_j1',\n",
       "  'cp_el2p_j3_2__el2p_j1_2',\n",
       "  'c_18o_j2__j1',\n",
       "  'hcop_j2__j1',\n",
       "  '13c_o_j2__j1',\n",
       "  'co_v0_j1__v0_j0',\n",
       "  'c_el3p_j1__el3p_j0',\n",
       "  'hnc_j1__j0',\n",
       "  'hcop_j1__j0',\n",
       "  'cn_n2_j2d5__n1_j1d5',\n",
       "  'c_el3p_j2__el3p_j1',\n",
       "  'c_18o_j1__j0',\n",
       "  'hcn_j1_f2__j0_f1',\n",
       "  'c2h_n3d0_j3d5_f4d0__n2d0_j2d5_f3d0',\n",
       "  'c_18o_j3__j2',\n",
       "  '13c_o_j1__j0',\n",
       "  'hcn_j3_f3__j2_f3',\n",
       "  'cn_n3_j2d5__n2_j1d5',\n",
       "  'cs_j6__j5',\n",
       "  'c2h_n4d0_j3d5_f4d0__n3d0_j2d5_f3d0',\n",
       "  'cs_j7__j6',\n",
       "  'c2h_n3d0_j2d5_f3d0__n2d0_j1d5_f2d0',\n",
       "  'cn_n3_j3d5__n2_j2d5',\n",
       "  'hnc_j3__j2',\n",
       "  'cn_n2_j1d5__n1_j0d5',\n",
       "  'c2h_n2d0_j2d5_f3d0__n1d0_j1d5_f2d0',\n",
       "  'hcop_j4__j3',\n",
       "  'hcn_j4_f4__j3_f3',\n",
       "  'c2h_n4d0_j4d5_f5d0__n3d0_j3d5_f4d0',\n",
       "  'hcn_j2_f3__j1_f2'],\n",
       " 'radm': ['cp_el2p_j3_2__el2p_j1_2',\n",
       "  'co_v0_j1__v0_j0',\n",
       "  'co_v0_j2__v0_j1',\n",
       "  'co_v0_j3__v0_j2',\n",
       "  'c_el3p_j2__el3p_j1',\n",
       "  'c_el3p_j1__el3p_j0',\n",
       "  '13c_o_j3__j2',\n",
       "  'hcop_j1__j0',\n",
       "  'c_18o_j1__j0',\n",
       "  'cs_j2__j1',\n",
       "  'hcn_j1_f2__j0_f1',\n",
       "  '13c_o_j2__j1',\n",
       "  'c_18o_j2__j1',\n",
       "  'cs_j3__j2',\n",
       "  '13c_o_j1__j0',\n",
       "  'hcop_j3__j2',\n",
       "  'hnc_j1__j0',\n",
       "  'c2h_n4d0_j4d5_f5d0__n3d0_j3d5_f4d0',\n",
       "  'cs_j5__j4',\n",
       "  'hcop_j2__j1',\n",
       "  'cn_n3_j3d5__n2_j2d5',\n",
       "  'hcn_j4_f4__j3_f3',\n",
       "  'c2h_n3d0_j2d5_f3d0__n2d0_j1d5_f2d0',\n",
       "  'cn_n1_j1d5__n0_j0d5',\n",
       "  'cn_n3_j2d5__n2_j1d5',\n",
       "  'cn_n1_j0d5__n0_j0d5',\n",
       "  'cn_n2_j2d5__n1_j1d5',\n",
       "  'hcn_j2_f3__j1_f2',\n",
       "  'cn_n2_j1d5__n1_j0d5',\n",
       "  'c2h_n2d0_j2d5_f3d0__n1d0_j1d5_f2d0',\n",
       "  'c2h_n4d0_j3d5_f4d0__n3d0_j2d5_f3d0',\n",
       "  'c2h_n3d0_j3d5_f4d0__n2d0_j2d5_f3d0',\n",
       "  'cs_j7__j6',\n",
       "  'cs_j6__j5',\n",
       "  'hcop_j4__j3',\n",
       "  'c_18o_j3__j2',\n",
       "  'hnc_j3__j2',\n",
       "  'hcn_j3_f3__j2_f3'],\n",
       " 'Avmax': ['13c_o_j1__j0',\n",
       "  'hcop_j1__j0',\n",
       "  'c_18o_j1__j0',\n",
       "  'c_18o_j2__j1',\n",
       "  'hcn_j1_f2__j0_f1',\n",
       "  'cs_j2__j1',\n",
       "  'hnc_j1__j0',\n",
       "  'cs_j3__j2',\n",
       "  '13c_o_j2__j1',\n",
       "  'hcop_j2__j1',\n",
       "  'cs_j5__j4',\n",
       "  'hcop_j3__j2',\n",
       "  'co_v0_j1__v0_j0',\n",
       "  'cn_n1_j0d5__n0_j0d5',\n",
       "  '13c_o_j3__j2',\n",
       "  'c_18o_j3__j2',\n",
       "  'c_el3p_j1__el3p_j0',\n",
       "  'cn_n1_j1d5__n0_j0d5',\n",
       "  'c_el3p_j2__el3p_j1',\n",
       "  'cn_n3_j3d5__n2_j2d5',\n",
       "  'hcn_j3_f3__j2_f3',\n",
       "  'c2h_n3d0_j3d5_f4d0__n2d0_j2d5_f3d0',\n",
       "  'cp_el2p_j3_2__el2p_j1_2',\n",
       "  'hcn_j2_f3__j1_f2',\n",
       "  'c2h_n4d0_j3d5_f4d0__n3d0_j2d5_f3d0',\n",
       "  'cn_n2_j1d5__n1_j0d5',\n",
       "  'hnc_j3__j2',\n",
       "  'c2h_n3d0_j2d5_f3d0__n2d0_j1d5_f2d0',\n",
       "  'cs_j7__j6',\n",
       "  'co_v0_j2__v0_j1',\n",
       "  'hcn_j4_f4__j3_f3',\n",
       "  'cn_n3_j2d5__n2_j1d5',\n",
       "  'hcop_j4__j3',\n",
       "  'c2h_n4d0_j4d5_f5d0__n3d0_j3d5_f4d0',\n",
       "  'cn_n2_j2d5__n1_j1d5',\n",
       "  'co_v0_j3__v0_j2',\n",
       "  'cs_j6__j5',\n",
       "  'c2h_n2d0_j2d5_f3d0__n1d0_j1d5_f2d0']}"
      ]
     },
     "execution_count": 22,
     "metadata": {},
     "output_type": "execute_result"
    }
   ],
   "source": [
    "ref_lines"
   ]
  },
  {
   "cell_type": "markdown",
   "id": "fc74dd8a",
   "metadata": {},
   "source": [
    "### 2 lines combination"
   ]
  },
  {
   "cell_type": "code",
   "execution_count": 23,
   "id": "3c1b0771",
   "metadata": {},
   "outputs": [],
   "source": [
    "# Samples restriction\n",
    "_df = df.loc[:1_000] # TODO 10_000"
   ]
  },
  {
   "cell_type": "code",
   "execution_count": 24,
   "id": "98225dc3",
   "metadata": {},
   "outputs": [
    {
     "name": "stdout",
     "output_type": "stream",
     "text": [
      "param: P\n"
     ]
    },
    {
     "name": "stderr",
     "output_type": "stream",
     "text": [
      "100%|██████████| 741/741 [00:57<00:00, 12.86it/s]\n",
      "100%|██████████| 703/703 [00:09<00:00, 75.19it/s]\n"
     ]
    },
    {
     "name": "stdout",
     "output_type": "stream",
     "text": [
      "param: radm\n"
     ]
    },
    {
     "name": "stderr",
     "output_type": "stream",
     "text": [
      " 64%|██████▎   | 472/741 [00:37<00:20, 12.90it/s]"
     ]
    }
   ],
   "source": [
    "for param in params:\n",
    "    print(\"param:\", param)\n",
    "    y = _df[param].to_numpy()\n",
    "    y = y.reshape(-1, 1)\n",
    "    \n",
    "    mis = np.zeros((len(lines), len(lines)), dtype=float)\n",
    "    sigmas = np.zeros_like(mis)\n",
    "    for line1, line2 in tqdm(list(itt.combinations_with_replacement(lines, r=2))):\n",
    "        i1, i2 = lines.index(line1), lines.index(line2)\n",
    "\n",
    "        x1, x2 = _df[line1].to_numpy(), _df[line2].to_numpy()\n",
    "        if line1 != line2:\n",
    "            x = np.column_stack((x1, x2))\n",
    "        else:\n",
    "            x = x1.reshape(-1, 1)\n",
    "\n",
    "        mis[i1, i2] = mi(x, y)\n",
    "        mis[i2, i1] = mis[i1, i2]\n",
    "\n",
    "        sigmas[i1, i2] = subsampling.compute_sigma(\n",
    "            x, y, **subsampling_params\n",
    "        )\n",
    "        sigmas[i2, i1] = sigmas[i1, i2]\n",
    "        \n",
    "    #\n",
    "\n",
    "    n_combs = 20\n",
    "\n",
    "    tril_x, tril_y = np.tril_indices(len(lines), -1) # -1 to ignore the diagonal\n",
    "\n",
    "    _mis = mis[tril_x, tril_y]\n",
    "    _sigmas = sigmas[tril_x, tril_y]\n",
    "    probs = prob_higher(_mis, _sigmas, approx=True, pbar=True)\n",
    "\n",
    "    order = np.argsort(_mis)[::-1]\n",
    "    order = order[:n_combs]\n",
    "    # order = np.argsort(probs)[::-1] TODO\n",
    "    # order = order[probs[order] > 0.10] # We take the probabilities higher than 10%\n",
    "    # order = order[:min(order.size, 3)] # We take only the 3 first probabilities for display reasons\n",
    "    \n",
    "    best_lines = [(lines[tril_x[k]], lines[tril_y[k]]) for k in order]\n",
    "    best_lines_mis = [_mis[k] for k in order]\n",
    "    best_lines_sigmas = [_sigmas[k] for k in order]\n",
    "    best_lines_probs = [probs[k] for k in order]\n",
    "\n",
    "    # Reordering based on individual results\n",
    "\n",
    "    for i in range(n_combs):\n",
    "        idx = np.argsort([ref_lines[param].index(l) for l in best_lines[i]])\n",
    "        best_lines[i] = [best_lines[i][k] for k in idx]\n",
    "\n",
    "    #\n",
    "\n",
    "    plt.figure(figsize=(n_lines/10 * 6.4, 4.8), dpi=150)\n",
    "\n",
    "    _ = plotter.plot_prob_bar(best_lines, best_lines_probs, short_names=False)\n",
    "    plt.title(f\"Probabilities of being the most informative observables on ${latex_comb_params(param)}$\")\n",
    "    plt.savefig(os.path.join(env_name, f\"{param_str(param)}_prob_comb\"), bbox_inches=\"tight\")\n",
    "\n",
    "    plt.close('all')\n",
    "\n",
    "    #\n",
    "    \n",
    "    plt.figure(figsize=(n_lines/10 * 6.4, 4.8), dpi=150)\n",
    "\n",
    "    _ = plotter.plot_mi_bar(best_lines, best_lines_mis, sorted=False, errs=best_lines_sigmas, short_names=False)\n",
    "    plt.title(f\"Highest mutual informations between between ${latex_comb_params(param)}$ and lines intensity\")\n",
    "    plt.savefig(os.path.join(env_name, f\"{param_str(param)}_mi_comb_bar\"), bbox_inches=\"tight\")\n",
    "\n",
    "    plt.close('all')\n",
    "\n",
    "    #\n",
    "\n",
    "    n_lines_mat = 10\n",
    "\n",
    "    list_best_lines = []\n",
    "    i = 0\n",
    "    while len(list_best_lines) < n_lines_mat:\n",
    "        for l in best_lines[i]:\n",
    "            if l not in list_best_lines:\n",
    "                list_best_lines.append(l)\n",
    "        i += 1\n",
    "\n",
    "    idx = [lines.index(l) for l in list_best_lines]\n",
    "    _mis = mis[idx][:, idx]\n",
    "    _sigmas = sigmas[idx][:, idx]\n",
    "\n",
    "    #\n",
    "\n",
    "    plt.figure(figsize=(n_lines/10 * 6.4, 4.8), dpi=150)\n",
    "\n",
    "    _ = plotter.plot_mi_matrix(list_best_lines, _mis, short_names=False)\n",
    "    plt.title(f\"Mutual information between ${latex_comb_params(param)}$ and lines intensity\")\n",
    "    plt.savefig(os.path.join(env_name, f\"{param_str(param)}_mi_comb_mat\"), bbox_inches=\"tight\")\n",
    "\n",
    "    plt.close('all')"
   ]
  },
  {
   "cell_type": "code",
   "execution_count": null,
   "id": "55c3c16b",
   "metadata": {},
   "outputs": [],
   "source": []
  }
 ],
 "metadata": {
  "kernelspec": {
   "display_name": "Python 3 (ipykernel)",
   "language": "python",
   "name": "python3"
  },
  "language_info": {
   "codemirror_mode": {
    "name": "ipython",
    "version": 3
   },
   "file_extension": ".py",
   "mimetype": "text/x-python",
   "name": "python",
   "nbconvert_exporter": "python",
   "pygments_lexer": "ipython3",
   "version": "3.11.8"
  }
 },
 "nbformat": 4,
 "nbformat_minor": 5
}
